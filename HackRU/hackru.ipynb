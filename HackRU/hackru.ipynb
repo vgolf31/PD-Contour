{
 "cells": [
  {
   "cell_type": "code",
   "execution_count": 2,
   "metadata": {},
   "outputs": [
    {
     "name": "stdout",
     "output_type": "stream",
     "text": [
      "Requirement already satisfied: torch in c:\\users\\patel\\appdata\\local\\packages\\pythonsoftwarefoundation.python.3.11_qbz5n2kfra8p0\\localcache\\local-packages\\python311\\site-packages (2.2.1+cu121)\n",
      "Requirement already satisfied: torchvision in c:\\users\\patel\\appdata\\local\\packages\\pythonsoftwarefoundation.python.3.11_qbz5n2kfra8p0\\localcache\\local-packages\\python311\\site-packages (0.17.1)\n",
      "Requirement already satisfied: filelock in c:\\users\\patel\\appdata\\local\\packages\\pythonsoftwarefoundation.python.3.11_qbz5n2kfra8p0\\localcache\\local-packages\\python311\\site-packages (from torch) (3.13.1)\n",
      "Requirement already satisfied: typing-extensions>=4.8.0 in c:\\users\\patel\\appdata\\local\\packages\\pythonsoftwarefoundation.python.3.11_qbz5n2kfra8p0\\localcache\\local-packages\\python311\\site-packages (from torch) (4.12.2)\n",
      "Requirement already satisfied: sympy in c:\\users\\patel\\appdata\\local\\packages\\pythonsoftwarefoundation.python.3.11_qbz5n2kfra8p0\\localcache\\local-packages\\python311\\site-packages (from torch) (1.12)\n",
      "Requirement already satisfied: networkx in c:\\users\\patel\\appdata\\local\\packages\\pythonsoftwarefoundation.python.3.11_qbz5n2kfra8p0\\localcache\\local-packages\\python311\\site-packages (from torch) (3.2.1)\n",
      "Requirement already satisfied: jinja2 in c:\\users\\patel\\appdata\\local\\packages\\pythonsoftwarefoundation.python.3.11_qbz5n2kfra8p0\\localcache\\local-packages\\python311\\site-packages (from torch) (3.1.3)\n",
      "Requirement already satisfied: fsspec in c:\\users\\patel\\appdata\\local\\packages\\pythonsoftwarefoundation.python.3.11_qbz5n2kfra8p0\\localcache\\local-packages\\python311\\site-packages (from torch) (2023.12.2)\n",
      "Requirement already satisfied: numpy in c:\\users\\patel\\appdata\\local\\packages\\pythonsoftwarefoundation.python.3.11_qbz5n2kfra8p0\\localcache\\local-packages\\python311\\site-packages (from torchvision) (1.26.2)\n",
      "Requirement already satisfied: pillow!=8.3.*,>=5.3.0 in c:\\users\\patel\\appdata\\local\\packages\\pythonsoftwarefoundation.python.3.11_qbz5n2kfra8p0\\localcache\\local-packages\\python311\\site-packages (from torchvision) (10.1.0)\n",
      "Requirement already satisfied: MarkupSafe>=2.0 in c:\\users\\patel\\appdata\\local\\packages\\pythonsoftwarefoundation.python.3.11_qbz5n2kfra8p0\\localcache\\local-packages\\python311\\site-packages (from jinja2->torch) (2.1.3)\n",
      "Requirement already satisfied: mpmath>=0.19 in c:\\users\\patel\\appdata\\local\\packages\\pythonsoftwarefoundation.python.3.11_qbz5n2kfra8p0\\localcache\\local-packages\\python311\\site-packages (from sympy->torch) (1.3.0)\n",
      "Note: you may need to restart the kernel to use updated packages.\n"
     ]
    },
    {
     "name": "stderr",
     "output_type": "stream",
     "text": [
      "\n",
      "[notice] A new release of pip is available: 23.3.2 -> 24.2\n",
      "[notice] To update, run: C:\\Users\\patel\\AppData\\Local\\Microsoft\\WindowsApps\\PythonSoftwareFoundation.Python.3.11_qbz5n2kfra8p0\\python.exe -m pip install --upgrade pip\n"
     ]
    }
   ],
   "source": [
    "%pip install torch torchvision\n",
    "import os\n",
    "import torch\n",
    "import torch.nn as nn\n",
    "import torch.optim as optim\n",
    "import torch.nn.functional as F\n",
    "from torchvision import datasets, transforms, models  # Import models to use VGG16\n",
    "from torch.utils.data import DataLoader, Dataset, ConcatDataset\n",
    "import numpy as np\n",
    "import matplotlib.pyplot as plt\n",
    "from PIL import Image\n",
    "import random\n",
    "from PIL import Image, UnidentifiedImageError  # Import UnidentifiedImageError for handling specific exceptions\n"
   ]
  },
  {
   "cell_type": "code",
   "execution_count": 47,
   "metadata": {},
   "outputs": [],
   "source": [
    "torch.cuda.empty_cache()\n"
   ]
  },
  {
   "cell_type": "code",
   "execution_count": 3,
   "metadata": {},
   "outputs": [
    {
     "name": "stdout",
     "output_type": "stream",
     "text": [
      "Total number of samples in testing dataset: 1621\n"
     ]
    },
    {
     "name": "stderr",
     "output_type": "stream",
     "text": [
      "C:\\Users\\patel\\AppData\\Local\\Packages\\PythonSoftwareFoundation.Python.3.11_qbz5n2kfra8p0\\LocalCache\\local-packages\\Python311\\site-packages\\torchvision\\models\\_utils.py:208: UserWarning: The parameter 'pretrained' is deprecated since 0.13 and may be removed in the future, please use 'weights' instead.\n",
      "  warnings.warn(\n",
      "C:\\Users\\patel\\AppData\\Local\\Packages\\PythonSoftwareFoundation.Python.3.11_qbz5n2kfra8p0\\LocalCache\\local-packages\\Python311\\site-packages\\torchvision\\models\\_utils.py:223: UserWarning: Arguments other than a weight enum or `None` for 'weights' are deprecated since 0.13 and may be removed in the future. The current behavior is equivalent to passing `weights=VGG16_Weights.IMAGENET1K_V1`. You can also use `weights=VGG16_Weights.DEFAULT` to get the most up-to-date weights.\n",
      "  warnings.warn(msg)\n"
     ]
    },
    {
     "name": "stdout",
     "output_type": "stream",
     "text": [
      "Epoch [1/10], Loss: 0.5735\n",
      "Epoch [2/10], Loss: 0.3280\n",
      "Epoch [3/10], Loss: 0.1337\n",
      "Epoch [4/10], Loss: 0.0366\n",
      "Epoch [5/10], Loss: 0.3953\n",
      "Epoch [6/10], Loss: 0.1042\n",
      "Epoch [7/10], Loss: 0.0127\n",
      "Epoch [8/10], Loss: 0.0040\n",
      "Epoch [9/10], Loss: 0.0022\n",
      "Epoch [10/10], Loss: 0.0011\n"
     ]
    }
   ],
   "source": [
    "device = torch.device(\"cuda\" if torch.cuda.is_available() else \"cpu\")\n",
    "\n",
    "class VGG16Model(nn.Module):\n",
    "    def __init__(self):\n",
    "        super(VGG16Model, self).__init__()\n",
    "        self.vgg16 = models.vgg16(pretrained=True)  # Load the VGG16 model with pretrained weights\n",
    "        self.vgg16.classifier[6] = nn.Linear(4096, 2)  # Change the final layer to output 2 classes\n",
    "\n",
    "    def forward(self, x):\n",
    "        return self.vgg16(x)\n",
    "\n",
    "class CustomMRIImageDataset(Dataset):\n",
    "    def __init__(self, root_dir, label, transform=None):\n",
    "        self.root_dir = root_dir\n",
    "        self.label = label\n",
    "        self.transform = transform\n",
    "        self.image_paths = []\n",
    "        for image_file in os.listdir(root_dir):\n",
    "            if image_file.endswith('.png'):  # Ensure only PNG images are considered\n",
    "                self.image_paths.append(os.path.join(root_dir, image_file))\n",
    "\n",
    "    def __len__(self):\n",
    "        return len(self.image_paths)\n",
    "\n",
    "    def __getitem__(self, idx):\n",
    "        img_path = self.image_paths[idx]\n",
    "        try:\n",
    "            image = Image.open(img_path).convert(\"RGB\")  # Convert to RGB\n",
    "            if self.transform:\n",
    "                image = self.transform(image)\n",
    "            return image, self.label  # Return image and its label\n",
    "        except (IOError, UnidentifiedImageError) as e:\n",
    "            print(f\"Error loading image {img_path}: {e}\")\n",
    "            # Return a dummy image (e.g., a black image) if loading fails\n",
    "            dummy_image = Image.new(\"RGB\", (224, 224), (0, 0, 0))  # Create a black image\n",
    "            return self.transform(dummy_image), self.label  # Return dummy image and label\n",
    "# Create new datasets with the selected indices\n",
    "class SubsetDataset(Dataset):\n",
    "    def __init__(self, dataset, indices):\n",
    "        self.dataset = dataset\n",
    "        self.indices = indices\n",
    "\n",
    "    def __len__(self):\n",
    "        return len(self.indices)\n",
    "\n",
    "    def __getitem__(self, idx):\n",
    "        return self.dataset[self.indices[idx]]\n",
    "# Step 5: Define transforms\n",
    "transform = transforms.Compose([\n",
    "    transforms.Resize((224, 224)),  \n",
    "    transforms.Grayscale(num_output_channels=3),  \n",
    "    transforms.ToTensor(),            \n",
    "    transforms.Normalize(mean=[0.485, 0.456, 0.406], std=[0.229, 0.224, 0.225]),\n",
    "])\n",
    "\n",
    "data_dir_pd = \"C:\\\\Users\\\\patel\\\\Downloads\\\\MRI_data-20241026T213243Z-001\\\\MRI_data\\\\PD Patient MRIs\"\n",
    "data_dir_non_pd = \"C:\\\\Users\\\\patel\\\\Downloads\\\\MRI_data-20241026T213243Z-001\\\\MRI_data\\\\Non PD Patient MRIs\"\n",
    "\n",
    "# Step 7: Create datasets for both PD and Non-PD Patients\n",
    "pd_dataset = CustomMRIImageDataset(data_dir_pd, label=1, transform=transform)\n",
    "non_pd_dataset = CustomMRIImageDataset(data_dir_non_pd, label=0, transform=transform)\n",
    "\n",
    "def select_random_samples(dataset, num_samples):\n",
    "    if len(dataset) < num_samples:\n",
    "        raise ValueError(f\"Dataset contains only {len(dataset)} images, cannot select {num_samples}\")\n",
    "    return random.sample(range(len(dataset)), num_samples)\n",
    "\n",
    "pd_indices = select_random_samples(pd_dataset, 1000)\n",
    "non_pd_indices = select_random_samples(non_pd_dataset, 1000)\n",
    "# Create subsets for training\n",
    "pd_subset = SubsetDataset(pd_dataset, pd_indices)\n",
    "non_pd_subset = SubsetDataset(non_pd_dataset, non_pd_indices)\n",
    "train_combined = ConcatDataset([pd_subset, non_pd_subset])\n",
    "pd_all_indices = list(range(len(pd_dataset)))\n",
    "non_pd_all_indices = list(range(len(non_pd_dataset)))\n",
    "pd_used_indices = pd_indices\n",
    "non_pd_used_indices = non_pd_indices\n",
    "\n",
    "# Create testing indices\n",
    "pd_test_indices = list(set(pd_all_indices) - set(pd_used_indices))\n",
    "non_pd_test_indices = list(set(non_pd_all_indices) - set(non_pd_used_indices))\n",
    "\n",
    "# Create SubsetDatasets for testing\n",
    "pd_test_subset = SubsetDataset(pd_dataset, pd_test_indices)\n",
    "non_pd_test_subset = SubsetDataset(non_pd_dataset, non_pd_test_indices)\n",
    "\n",
    "# Combine the test datasets\n",
    "test_combined = ConcatDataset([pd_test_subset, non_pd_test_subset])\n",
    "print(f\"Total number of samples in testing dataset: {len(test_combined)}\")\n",
    "\n",
    "# Create DataLoaders for training and testing datasets\n",
    "train_loader = DataLoader(train_combined, batch_size=32, shuffle=True)\n",
    "test_loader = DataLoader(test_combined, batch_size=32, shuffle=False)\n",
    "# Step 9: Initialize model, loss function, and optimizer\n",
    "vgg_model = VGG16Model().to(device)  # Use VGG16 model\n",
    "criterion = nn.CrossEntropyLoss()  # Use CrossEntropy for multi-class classification\n",
    "optimizer = optim.SGD(vgg_model.parameters(), lr=.01)\n",
    "\n",
    "# Step 10: Training loop\n",
    "num_epochs = 10\n",
    "for epoch in range(num_epochs):\n",
    "    vgg_model.train()\n",
    "    running_loss = 0.0\n",
    "    for images, labels in train_loader:\n",
    "        images, labels = images.to(device), labels.to(device)\n",
    "        \n",
    "        optimizer.zero_grad()  # Zero the gradients\n",
    "        outputs = vgg_model(images)  # Forward pass\n",
    "        loss = criterion(outputs, labels)  # Calculate loss\n",
    "        loss.backward()  # Backpropagation\n",
    "        optimizer.step()  # Update weights\n",
    "        \n",
    "        running_loss += loss.item()\n",
    "\n",
    "    print(f'Epoch [{epoch + 1}/{num_epochs}], Loss: {running_loss / len(train_loader):.4f}')\n",
    "scripted_vgg_model = torch.jit.script(vgg_model)\n",
    "torch.jit.save(scripted_vgg_model, 'parkinsons_vgg_model_scripted.pth')\n"
   ]
  },
  {
   "cell_type": "code",
   "execution_count": 8,
   "metadata": {},
   "outputs": [
    {
     "name": "stdout",
     "output_type": "stream",
     "text": [
      "Error loading image C:\\Users\\patel\\Downloads\\MRI_data-20241026T213243Z-001\\MRI_data\\PD Patient MRIs\\SAG+C_006.png: cannot identify image file 'C:\\\\Users\\\\patel\\\\Downloads\\\\MRI_data-20241026T213243Z-001\\\\MRI_data\\\\PD Patient MRIs\\\\SAG+C_006.png'\n",
      "Error loading image C:\\Users\\patel\\Downloads\\MRI_data-20241026T213243Z-001\\MRI_data\\Non PD Patient MRIs\\ciss3d_SAG_017.png: cannot identify image file 'C:\\\\Users\\\\patel\\\\Downloads\\\\MRI_data-20241026T213243Z-001\\\\MRI_data\\\\Non PD Patient MRIs\\\\ciss3d_SAG_017.png'\n",
      "Accuracy: 99.51%\n"
     ]
    },
    {
     "data": {
      "text/plain": [
       "(array([1, 1, 1, ..., 0, 0, 0], dtype=int64),\n",
       " array([1, 1, 1, ..., 0, 0, 0], dtype=int64))"
      ]
     },
     "execution_count": 8,
     "metadata": {},
     "output_type": "execute_result"
    }
   ],
   "source": [
    "def evaluate_cnn_model(model_path, test_loader, device):\n",
    "    # Load the TorchScript model directly to the specified device\n",
    "    model = torch.jit.load(model_path).to(device)\n",
    "    model.eval()  \n",
    "\n",
    "    all_predictions = []\n",
    "    all_labels = []\n",
    "\n",
    "    with torch.no_grad():  # Disable gradient calculation for evaluation\n",
    "        for images, labels in test_loader:\n",
    "            images, labels = images.to(device), labels.to(device)\n",
    "            outputs = model(images)  \n",
    "            _, predicted = torch.max(outputs, 1)\n",
    "            \n",
    "            all_predictions.extend(predicted.cpu().numpy()) \n",
    "            all_labels.extend(labels.cpu().numpy())\n",
    "\n",
    "    all_predictions = np.array(all_predictions)\n",
    "    all_labels = np.array(all_labels)\n",
    "\n",
    "    accuracy = np.sum(all_predictions == all_labels) / len(all_labels)\n",
    "    print(f'Accuracy: {accuracy * 100:.2f}%')\n",
    "    return all_predictions, all_labels\n",
    "\n",
    "# Call the function with the model path and test loader\n",
    "evaluate_cnn_model(\"C:/Users/patel/Downloads/reu-dataset-analysis/parkinsons_vgg_model_scripted.pth\", test_loader, device)\n"
   ]
  }
 ],
 "metadata": {
  "kernelspec": {
   "display_name": "Python 3",
   "language": "python",
   "name": "python3"
  },
  "language_info": {
   "codemirror_mode": {
    "name": "ipython",
    "version": 3
   },
   "file_extension": ".py",
   "mimetype": "text/x-python",
   "name": "python",
   "nbconvert_exporter": "python",
   "pygments_lexer": "ipython3",
   "version": "3.11.9"
  }
 },
 "nbformat": 4,
 "nbformat_minor": 2
}
